{
 "cells": [
  {
   "cell_type": "code",
   "execution_count": 2,
   "metadata": {},
   "outputs": [
    {
     "name": "stderr",
     "output_type": "stream",
     "text": [
      "[nltk_data] Downloading package punkt to C:\\Users\\Ruslan\n",
      "[nltk_data]     Galiev\\AppData\\Roaming\\nltk_data...\n",
      "[nltk_data]   Package punkt is already up-to-date!\n",
      "[nltk_data] Downloading package stopwords to C:\\Users\\Ruslan\n",
      "[nltk_data]     Galiev\\AppData\\Roaming\\nltk_data...\n",
      "[nltk_data]   Package stopwords is already up-to-date!\n"
     ]
    }
   ],
   "source": [
    "import nltk\n",
    "nltk.download('punkt')\n",
    "nltk.download('stopwords')\n",
    "from nltk.tokenize import RegexpTokenizer\n",
    "from nltk.tokenize import sent_tokenize\n",
    "from nltk.tokenize import word_tokenize\n",
    "import re\n",
    "from nltk.corpus import stopwords\n",
    "stopwords = stopwords.words(\"english\")\n",
    "import pymorphy2\n",
    "morph = pymorphy2.MorphAnalyzer()"
   ]
  },
  {
   "cell_type": "code",
   "execution_count": 3,
   "metadata": {},
   "outputs": [],
   "source": [
    "tokenizer = RegexpTokenizer(r'\\w+')\n",
    "r = re.compile(\"[a-zA-Z]+\")\n",
    "words = []\n",
    "\n",
    "for i in range(100):\n",
    "    file = open('/Users/Microsoft/Desktop/pages/'+str(i)+'.txt', encoding=\"utf-8\")\n",
    "    for line in file:\n",
    "        tokens = tokenizer.tokenize(line)\n",
    "        filteredTokens = []\n",
    "        for token in tokens:\n",
    "            if token not in stopwords:\n",
    "                filteredTokens.append(token)\n",
    "        english = [w for w in filter(r.match, filteredTokens)]\n",
    "        for word in english:\n",
    "            if len(word) > 1:\n",
    "                words.append(word)"
   ]
  },
  {
   "cell_type": "code",
   "execution_count": 4,
   "metadata": {},
   "outputs": [],
   "source": [
    "words = list(set(words))\n",
    "flie2 = open('/Users/Microsoft/Desktop/pages/task2.txt','w', encoding=\"utf-8\")\n",
    "for word in words:\n",
    "    flie2.write(word + \"\\n\")\n",
    "dictionary = {}\n",
    "for word in words:\n",
    "     dictionary[morph.parse(word)[0].normal_form] = []\n",
    "for word in words:\n",
    "    dictionary[morph.parse(word)[0].normal_form].append(word)\n",
    "lemantize = open('/Users/Microsoft/Desktop/pages/task2Lemantize.txt','w', encoding=\"utf-8\")\n",
    "for (key, value) in dictionary.items():\n",
    "    lemantize.write(key + \" \"  + \" \".join(value) + \"\\n\")"
   ]
  },
  {
   "cell_type": "code",
   "execution_count": null,
   "metadata": {},
   "outputs": [],
   "source": []
  }
 ],
 "metadata": {
  "kernelspec": {
   "display_name": "Python 3",
   "language": "python",
   "name": "python3"
  },
  "language_info": {
   "codemirror_mode": {
    "name": "ipython",
    "version": 3
   },
   "file_extension": ".py",
   "mimetype": "text/x-python",
   "name": "python",
   "nbconvert_exporter": "python",
   "pygments_lexer": "ipython3",
   "version": "3.8.5"
  }
 },
 "nbformat": 4,
 "nbformat_minor": 4
}
